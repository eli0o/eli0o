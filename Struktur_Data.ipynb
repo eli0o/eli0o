{
  "nbformat": 4,
  "nbformat_minor": 0,
  "metadata": {
    "colab": {
      "provenance": [],
      "include_colab_link": true
    },
    "kernelspec": {
      "name": "python3",
      "display_name": "Python 3"
    },
    "language_info": {
      "name": "python"
    }
  },
  "cells": [
    {
      "cell_type": "markdown",
      "metadata": {
        "id": "view-in-github",
        "colab_type": "text"
      },
      "source": [
        "<a href=\"https://colab.research.google.com/github/eli0o/eli0o/blob/main/Struktur_Data.ipynb\" target=\"_parent\"><img src=\"https://colab.research.google.com/assets/colab-badge.svg\" alt=\"Open In Colab\"/></a>"
      ]
    },
    {
      "cell_type": "markdown",
      "source": [],
      "metadata": {
        "id": "J-bl2wXO1GAW"
      }
    },
    {
      "cell_type": "code",
      "execution_count": null,
      "metadata": {
        "colab": {
          "base_uri": "https://localhost:8080/"
        },
        "id": "XRp49ovY0jFN",
        "outputId": "cca554f2-a3db-493d-babb-2ea2b1ea8cd5"
      },
      "outputs": [
        {
          "output_type": "stream",
          "name": "stdout",
          "text": [
            "['Nenas', 'Semangka', 20, 15.5, False]\n"
          ]
        }
      ],
      "source": [
        "list = [\"Nenas\", \"Semangka\", 20, 15.5, False]\n",
        "print(list)"
      ]
    },
    {
      "cell_type": "markdown",
      "source": [
        "\n"
      ],
      "metadata": {
        "id": "U3EmCKVm1Kze"
      }
    },
    {
      "cell_type": "code",
      "source": [
        "print(type(list))\n",
        "\n",
        "<class 'list'>"
      ],
      "metadata": {
        "id": "Wszrgr7M1NhA"
      },
      "execution_count": null,
      "outputs": []
    },
    {
      "cell_type": "code",
      "source": [
        "# Menghitung berapa panjang data dalam variabel list\n",
        "list = [\"Nenas\", \"Semangka\", 20, 15.5, False]\n",
        "print(len(list))"
      ],
      "metadata": {
        "colab": {
          "base_uri": "https://localhost:8080/"
        },
        "id": "OLH-FMzL2C4j",
        "outputId": "93d3d1b8-f226-4df3-fb16-34c7765c17c2"
      },
      "execution_count": null,
      "outputs": [
        {
          "output_type": "stream",
          "name": "stdout",
          "text": [
            "5\n"
          ]
        }
      ]
    },
    {
      "cell_type": "code",
      "source": [
        "# Melihat data ke 3 pada variabel list\n",
        "list = [\"Nenas\", \"Semangka\", 20, 15.5, False]\n",
        "print(list[2])"
      ],
      "metadata": {
        "colab": {
          "base_uri": "https://localhost:8080/"
        },
        "id": "-ahllGWq2XE2",
        "outputId": "025c7bea-f8ad-4747-afb7-2da7823b97de"
      },
      "execution_count": null,
      "outputs": [
        {
          "output_type": "stream",
          "name": "stdout",
          "text": [
            "20\n"
          ]
        }
      ]
    },
    {
      "cell_type": "markdown",
      "source": [],
      "metadata": {
        "id": "l-foEXCb2pue"
      }
    },
    {
      "cell_type": "code",
      "source": [
        "list[2] = 175\n",
        "list[3] = 100\n",
        "list[4] = \"Apple\"\n",
        "print(list)"
      ],
      "metadata": {
        "colab": {
          "base_uri": "https://localhost:8080/"
        },
        "id": "QhXGY0f32w0G",
        "outputId": "3f1ee84f-d224-4589-ce44-64a65f72c8f7"
      },
      "execution_count": null,
      "outputs": [
        {
          "output_type": "stream",
          "name": "stdout",
          "text": [
            "['Nenas', 'Semangka', 175, 100, 'Apple']\n"
          ]
        }
      ]
    },
    {
      "cell_type": "code",
      "source": [
        "# Menambahkan List Langsung dengan sebuah nilai\n",
        "list_baru = [\"Nenas\", \"Semangka\", 175, 100, \"Apple\", 1000, 2000, True]\n",
        "list_baru.append(8000)\n",
        "print(list_baru)"
      ],
      "metadata": {
        "colab": {
          "base_uri": "https://localhost:8080/"
        },
        "id": "6-IXwAgK4KD9",
        "outputId": "44689458-eb95-4fc6-a93f-fccacd613000"
      },
      "execution_count": null,
      "outputs": [
        {
          "output_type": "stream",
          "name": "stdout",
          "text": [
            "['Nenas', 'Semangka', 175, 100, 'Apple', 1000, 2000, True, 8000]\n"
          ]
        }
      ]
    },
    {
      "cell_type": "code",
      "source": [
        "# Menambahkan item list dengan fungsi insert\n",
        "list_baru.insert(1,9000)\n",
        "print(list_baru)"
      ],
      "metadata": {
        "colab": {
          "base_uri": "https://localhost:8080/"
        },
        "id": "LsIcHLRJ5t1X",
        "outputId": "840cb141-c4f0-41ee-d077-f882cef9c175"
      },
      "execution_count": null,
      "outputs": [
        {
          "output_type": "stream",
          "name": "stdout",
          "text": [
            "['Nenas', 9000, 'Semangka', 175, 100, 'Apple', 1000, 2000, True, 8000]\n"
          ]
        }
      ]
    },
    {
      "cell_type": "code",
      "source": [
        "# Menghapus data item terakhir pada list menggunakan fungsi pop()\n",
        "list_baru.pop()\n",
        "print(list_baru)"
      ],
      "metadata": {
        "colab": {
          "base_uri": "https://localhost:8080/"
        },
        "id": "GcsciHyj7KTP",
        "outputId": "29313ef5-6e10-446a-8695-8515e8270203"
      },
      "execution_count": null,
      "outputs": [
        {
          "output_type": "stream",
          "name": "stdout",
          "text": [
            "['Nenas', 9000, 'Semangka', 175, 100, 'Apple', 1000, 2000, True]\n"
          ]
        }
      ]
    },
    {
      "cell_type": "code",
      "source": [
        "# Menghapus data nilai sesuai indeks\n",
        "list_baru.pop(2)\n",
        "print(list_baru)"
      ],
      "metadata": {
        "colab": {
          "base_uri": "https://localhost:8080/"
        },
        "id": "zxeoNmS98aoP",
        "outputId": "c49587f5-4a8a-461e-8f4f-044f49bec6d8"
      },
      "execution_count": null,
      "outputs": [
        {
          "output_type": "stream",
          "name": "stdout",
          "text": [
            "['Nenas', 9000, 175, 100, 'Apple', 1000, 2000, True]\n"
          ]
        }
      ]
    },
    {
      "cell_type": "code",
      "source": [
        "# Menghapus data item sesuai indeks pada list menggunakan fungsi del\n",
        "del list_baru[2]\n",
        "print(list_baru)"
      ],
      "metadata": {
        "colab": {
          "base_uri": "https://localhost:8080/"
        },
        "id": "8fAO_09H8xqh",
        "outputId": "855c16c1-858f-49e6-c476-2cc21e6b9a8a"
      },
      "execution_count": null,
      "outputs": [
        {
          "output_type": "stream",
          "name": "stdout",
          "text": [
            "['Nenas', 9000, 100, 'Apple', 1000, 2000, True]\n"
          ]
        }
      ]
    },
    {
      "cell_type": "code",
      "source": [
        "# Memotong list\n",
        "bulan = [\"jan\", \"feb\", \"mar\", \"apr\", \"may\", \"jun\"]\n",
        "print (bulan[1:5])"
      ],
      "metadata": {
        "colab": {
          "base_uri": "https://localhost:8080/"
        },
        "id": "df1kHMco9VoA",
        "outputId": "585c6739-c57c-4827-8a31-79fddc6cc037"
      },
      "execution_count": null,
      "outputs": [
        {
          "output_type": "stream",
          "name": "stdout",
          "text": [
            "['feb', 'mar', 'apr', 'may']\n"
          ]
        }
      ]
    },
    {
      "cell_type": "code",
      "source": [
        "# Membuat list makanan dengan 2 dimensi\n",
        "list_makanan = [\n",
        "    [\"kue coklat\", \"tempe bacem\", \"Tahu goreng\"],\n",
        "    [\"Ayam Goreng\", \"ayam bakar\", \"ayam rica-rica\"],\n",
        "    [\"sop\", \"soto\", \"mie ayam\"]\n",
        "]\n",
        "print (list_makanan[1][2])\n",
        "print (list_makanan[1][1])\n",
        "print (list_makanan[0][0])"
      ],
      "metadata": {
        "colab": {
          "base_uri": "https://localhost:8080/"
        },
        "id": "v2dLnJUf-Pyh",
        "outputId": "cf81c08e-68e1-4758-cd20-7acef6e18bb5"
      },
      "execution_count": null,
      "outputs": [
        {
          "output_type": "stream",
          "name": "stdout",
          "text": [
            "ayam rica-rica\n",
            "ayam bakar\n",
            "kue coklat\n"
          ]
        }
      ]
    },
    {
      "cell_type": "code",
      "source": [
        "# Tugas 1\n",
        "# Data list\n",
        "list_tugas = [\"Data1\", [90, 40, 30, 00, 10], 12, \"Data2\"]\n",
        "\n",
        "print(\"Tampilkan Output Seperti dibawah ini\")\n",
        "print(\"Output ke 1 = \", list_tugas[0])\n",
        "print(\"Output ke 2 = \", list_tugas[1][1])\n",
        "print(\"Output ke 3 = \", list_tugas[2])\n",
        "print(\"Output ke 4 = \", list_tugas[1][4])\n",
        "print(\"Output ke 5 = \", list_tugas[3])\n",
        "print(\"Output ke 6 = \", list_tugas[3][3])\n",
        "print(type(list_tugas))"
      ],
      "metadata": {
        "colab": {
          "base_uri": "https://localhost:8080/"
        },
        "id": "APv0OrFUCzGY",
        "outputId": "4b7e463a-a849-410c-f7ba-c604b285a276"
      },
      "execution_count": null,
      "outputs": [
        {
          "output_type": "stream",
          "name": "stdout",
          "text": [
            "Tampilkan Output Seperti dibawah ini\n",
            "Output ke 1 =  Data1\n",
            "Output ke 2 =  40\n",
            "Output ke 3 =  12\n",
            "Output ke 4 =  10\n",
            "Output ke 5 =  Data2\n",
            "Output ke 6 =  a\n",
            "<class 'list'>\n"
          ]
        }
      ]
    },
    {
      "cell_type": "code",
      "source": [
        "# Membuat Tupple\n",
        "data_tupple = (60,20,10,30,100,55)\n",
        "print((data_tupple))\n",
        "print(type(data_tupple))"
      ],
      "metadata": {
        "colab": {
          "base_uri": "https://localhost:8080/"
        },
        "id": "GfunKFjhEdQp",
        "outputId": "6a8a7f9b-8525-49e3-ed7a-3c0ab7810b93"
      },
      "execution_count": null,
      "outputs": [
        {
          "output_type": "stream",
          "name": "stdout",
          "text": [
            "(60, 20, 10, 30, 100, 55)\n",
            "<class 'tuple'>\n"
          ]
        }
      ]
    },
    {
      "cell_type": "code",
      "source": [
        "# Membuat Tupple\n",
        "data_tupple1 = (33,44,55,66,77,88,90)\n",
        "print(data_tupple1+(20,189,77,33,66,\"string\"))\n",
        "data_tupple2 =(20,189,77,33,66,\"string\")"
      ],
      "metadata": {
        "colab": {
          "base_uri": "https://localhost:8080/"
        },
        "id": "fxBRlhssId-9",
        "outputId": "04c78673-20bc-4d8b-de9d-ecb67f8f23d2"
      },
      "execution_count": 8,
      "outputs": [
        {
          "output_type": "stream",
          "name": "stdout",
          "text": [
            "(33, 44, 55, 66, 77, 88, 90, 20, 189, 77, 33, 66, 'string')\n"
          ]
        }
      ]
    },
    {
      "cell_type": "code",
      "source": [
        "print(data_tupple2)"
      ],
      "metadata": {
        "colab": {
          "base_uri": "https://localhost:8080/"
        },
        "id": "DOHT7sqyJpIe",
        "outputId": "194fcc43-ef4c-4311-98c9-4551d9d0e5c0"
      },
      "execution_count": 9,
      "outputs": [
        {
          "output_type": "stream",
          "name": "stdout",
          "text": [
            "(20, 189, 77, 33, 66, 'string')\n"
          ]
        }
      ]
    },
    {
      "cell_type": "code",
      "source": [
        "\n",
        "data_tupple3 =(22,23,24,25,26,27,28)"
      ],
      "metadata": {
        "id": "9jyC4NvkJuyd"
      },
      "execution_count": 10,
      "outputs": []
    },
    {
      "cell_type": "code",
      "source": [
        "data_tupple_potong = data_tupple3[0:4]\n"
      ],
      "metadata": {
        "id": "4PtT-LCNJ6b9"
      },
      "execution_count": 21,
      "outputs": []
    },
    {
      "cell_type": "code",
      "source": [
        "data_tupple_duplikat = data_tupple3[:]"
      ],
      "metadata": {
        "id": "RBu5JTsgKTZM"
      },
      "execution_count": 14,
      "outputs": []
    },
    {
      "cell_type": "code",
      "source": [
        "print(data_tupple_potong)"
      ],
      "metadata": {
        "colab": {
          "base_uri": "https://localhost:8080/"
        },
        "id": "x0NP9e7xKY7d",
        "outputId": "323bac10-d8bd-4b03-8026-b615e0e402f5"
      },
      "execution_count": 22,
      "outputs": [
        {
          "output_type": "stream",
          "name": "stdout",
          "text": [
            "(22, 23, 24, 25)\n"
          ]
        }
      ]
    },
    {
      "cell_type": "code",
      "source": [
        "print(data_tupple_duplikat)"
      ],
      "metadata": {
        "colab": {
          "base_uri": "https://localhost:8080/"
        },
        "id": "q_NsmHYHKfc9",
        "outputId": "f0d5d048-dae9-4c3f-dbad-a4557f2e0de3"
      },
      "execution_count": 24,
      "outputs": [
        {
          "output_type": "stream",
          "name": "stdout",
          "text": [
            "(22, 23, 24, 25, 26, 27, 28)\n"
          ]
        }
      ]
    },
    {
      "cell_type": "code",
      "source": [
        "tuplel = (1,2,3,4)"
      ],
      "metadata": {
        "id": "IwTPpKUTK4hN"
      },
      "execution_count": 25,
      "outputs": []
    },
    {
      "cell_type": "code",
      "source": [
        "a,b,c,d = tuplel\n",
        "print(c)\n"
      ],
      "metadata": {
        "colab": {
          "base_uri": "https://localhost:8080/"
        },
        "id": "In61pBPiLG8M",
        "outputId": "f021b90d-b0a1-4e8d-9a49-24ddd54940c9"
      },
      "execution_count": 31,
      "outputs": [
        {
          "output_type": "stream",
          "name": "stdout",
          "text": [
            "3\n"
          ]
        }
      ]
    },
    {
      "cell_type": "code",
      "source": [
        "data_dic1 = {\n",
        "    'nama_barang': 'kursi',\n",
        "    'deskripsi': 'kokoh',\n",
        "    'harga': 150000\n",
        "}\n",
        "\n",
        "data_dic2 = {\n",
        "    'judul': 'asdasda',\n",
        "    'penulis': 'ksadokof'\n",
        "}\n"
      ],
      "metadata": {
        "id": "HJjdKP4TLhGd"
      },
      "execution_count": 36,
      "outputs": []
    },
    {
      "cell_type": "code",
      "source": [
        "print(data_dic1)\n",
        "print(data_dic2)"
      ],
      "metadata": {
        "colab": {
          "base_uri": "https://localhost:8080/"
        },
        "id": "tht8lC6UMNAO",
        "outputId": "e296e238-baa7-4abe-da9b-9566f12178b7"
      },
      "execution_count": 37,
      "outputs": [
        {
          "output_type": "stream",
          "name": "stdout",
          "text": [
            "{'nama_barang': 'kursi', 'deskripsi': 'kokoh', 'harga': 150000}\n",
            "{'judul': 'asdasda', 'penulis': 'ksadokof'}\n"
          ]
        }
      ]
    },
    {
      "cell_type": "code",
      "source": [
        "print(type(data_dic1))"
      ],
      "metadata": {
        "colab": {
          "base_uri": "https://localhost:8080/"
        },
        "id": "GN78nCnqMTL8",
        "outputId": "1572e41a-3dda-4c67-8d52-4b4ea58fe439"
      },
      "execution_count": 39,
      "outputs": [
        {
          "output_type": "stream",
          "name": "stdout",
          "text": [
            "<class 'dict'>\n"
          ]
        }
      ]
    },
    {
      "cell_type": "code",
      "source": [
        "data_dictionary = {\n",
        "    'nama_barang': 'kursi',\n",
        "    'deskripsi': 'kokoh',\n",
        "    'harga': 150000}"
      ],
      "metadata": {
        "id": "KIkF3piYNq9t"
      },
      "execution_count": 41,
      "outputs": []
    },
    {
      "cell_type": "code",
      "source": [
        "print(\"Nama Barang:\",data_dictionary.get('nama_barang'))\n",
        "print(\"Harga:\",data_dictionary['harga']) "
      ],
      "metadata": {
        "colab": {
          "base_uri": "https://localhost:8080/"
        },
        "id": "zPNCSnalN0gN",
        "outputId": "6919b64a-c2b6-4564-c83b-3b5f2ec3475a"
      },
      "execution_count": 44,
      "outputs": [
        {
          "output_type": "stream",
          "name": "stdout",
          "text": [
            "Nama Barang: kursi\n",
            "Harga: 150000\n"
          ]
        }
      ]
    },
    {
      "cell_type": "code",
      "source": [
        "print(data_dictionary.values())\n",
        "print(data_dictionary.items())\n",
        "print(data_dictionary.keys())\n",
        "\n"
      ],
      "metadata": {
        "colab": {
          "base_uri": "https://localhost:8080/"
        },
        "id": "KTwu9vXKOpNN",
        "outputId": "fc82be54-2249-45f8-aa57-8cf84919875d"
      },
      "execution_count": 46,
      "outputs": [
        {
          "output_type": "stream",
          "name": "stdout",
          "text": [
            "dict_values(['kursi', 'kokoh', 150000])\n",
            "dict_items([('nama_barang', 'kursi'), ('deskripsi', 'kokoh'), ('harga', 150000)])\n",
            "dict_keys(['nama_barang', 'deskripsi', 'harga'])\n"
          ]
        }
      ]
    },
    {
      "cell_type": "code",
      "source": [
        "data_dictionary[\"warna\"]=\"coklat\"\n",
        "print(data_dictionary)"
      ],
      "metadata": {
        "colab": {
          "base_uri": "https://localhost:8080/"
        },
        "id": "ugML0TADPY5d",
        "outputId": "e9b3b868-6f1d-4c4d-dfaa-029915a88c5c"
      },
      "execution_count": 48,
      "outputs": [
        {
          "output_type": "stream",
          "name": "stdout",
          "text": [
            "{'nama_barang': 'kursi', 'deskripsi': 'kokoh', 'harga': 150000, 'warna': 'coklat'}\n"
          ]
        }
      ]
    },
    {
      "cell_type": "code",
      "source": [],
      "metadata": {
        "id": "cykiB6SnPq6N"
      },
      "execution_count": null,
      "outputs": []
    }
  ]
}